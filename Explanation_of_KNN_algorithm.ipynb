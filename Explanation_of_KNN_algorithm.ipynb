{
  "nbformat": 4,
  "nbformat_minor": 0,
  "metadata": {
    "colab": {
      "name": "Explanation of KNN algorithm.ipynb",
      "private_outputs": true,
      "provenance": []
    },
    "kernelspec": {
      "name": "python3",
      "display_name": "Python 3"
    },
    "language_info": {
      "name": "python"
    }
  },
  "cells": [
    {
      "cell_type": "code",
      "execution_count": null,
      "metadata": {
        "id": "s_ak2GsX33Uk"
      },
      "outputs": [],
      "source": [
        "import numpy as np\n",
        "import pandas as pd\n",
        "import plotly.graph_objects as go\n",
        "import plotly.offline as po\n",
        "from plotly.offline import download_plotlyjs, init_notebook_mode, plot, iplot\n",
        "import matplotlib.pyplot as plt\n",
        "import plotly.express as px\n",
        "import random\n",
        "import plotly.figure_factory as ff\n",
        "from plotly import tools\n",
        "from plotly.subplots import make_subplots\n",
        "from plotly.offline import iplot\n",
        "import warnings\n",
        "warnings.filterwarnings(\"ignore\")\n",
        "pd.set_option(\"display.max_rows\",None)\n",
        "from sklearn import preprocessing \n",
        "%matplotlib inline\n",
        "from sklearn.neighbors import KNeighborsClassifier\n",
        "from sklearn.ensemble import RandomForestClassifier\n",
        "from sklearn.linear_model import LogisticRegression\n",
        "from sklearn import datasets, linear_model, metrics\n",
        "from sklearn.metrics import accuracy_score, confusion_matrix, classification_report\n",
        "from sklearn.preprocessing import StandardScaler\n",
        "from sklearn.model_selection import train_test_split"
      ]
    },
    {
      "cell_type": "markdown",
      "source": [
        "###Loading The DataSet\n"
      ],
      "metadata": {
        "id": "Or4-UBpN4SPc"
      }
    },
    {
      "cell_type": "code",
      "source": [
        "df = pd.read_csv(\"heart.csv\")"
      ],
      "metadata": {
        "id": "4QF11OYR4UAY"
      },
      "execution_count": null,
      "outputs": []
    },
    {
      "cell_type": "code",
      "source": [
        "# Styled Table in Plotly\n",
        "\n",
        "fig = go.Figure(data=[go.Table(\n",
        "                                 header=dict(\n",
        "                                              values=list(df.columns), # Header values\n",
        "                                              line_color='black', # Line Color of header \n",
        "                                              fill_color='orange', # background color of header\n",
        "                                              align='center', # Align header at center\n",
        "                                              height=40, # Height of Header\n",
        "                                              font=dict(color='white', size=10), # Font size & color of header text\n",
        "                                             ), cells=dict(values=[\n",
        "                                                     df.Age , # Column values\n",
        "                                                     df.Sex, \n",
        "                                                     df.ChestPainType,\n",
        "                                                     df.RestingBP, \n",
        "                                                     df.Cholesterol,\n",
        "                                                     df.FastingBS,\n",
        "                                                     df.RestingECG,\n",
        "                                                     df.MaxHR,\n",
        "                                                     df.ExerciseAngina,\n",
        "                                                     df.Oldpeak,\n",
        "                                                     df.ST_Slope,\n",
        "                                                     df.HeartDisease\n",
        "                                                    ],line_color='darkgrey', # Line color of the cell\n",
        "                                            fill_color='lightcyan', # Color of the cell\n",
        "                                            align='left'  # Align text to left in cell\n",
        "                                           )\n",
        "                               )\n",
        "                     ]\n",
        "               )\n",
        "\n",
        "fig.update_layout(width=1000, height=500)\n",
        "fig.show()"
      ],
      "metadata": {
        "id": "-ADcrkVL4mce"
      },
      "execution_count": null,
      "outputs": []
    },
    {
      "cell_type": "markdown",
      "source": [
        "###Exploratory Data Analysis\n"
      ],
      "metadata": {
        "id": "bQ9YSqtf5Dez"
      }
    },
    {
      "cell_type": "code",
      "source": [
        "df.head()"
      ],
      "metadata": {
        "id": "Y04PzOgh5HhS"
      },
      "execution_count": null,
      "outputs": []
    },
    {
      "cell_type": "code",
      "source": [
        "df.tail()"
      ],
      "metadata": {
        "id": "LwK4fx_u5L8j"
      },
      "execution_count": null,
      "outputs": []
    },
    {
      "cell_type": "code",
      "source": [
        "df.shape"
      ],
      "metadata": {
        "id": "bZlCoKJm6mWa"
      },
      "execution_count": null,
      "outputs": []
    },
    {
      "cell_type": "code",
      "source": [
        "df.size"
      ],
      "metadata": {
        "id": "SxMX6T4T6pZq"
      },
      "execution_count": null,
      "outputs": []
    },
    {
      "cell_type": "code",
      "source": [
        "df.dtypes"
      ],
      "metadata": {
        "id": "RYCnW64g6seY"
      },
      "execution_count": null,
      "outputs": []
    },
    {
      "cell_type": "code",
      "source": [
        "df.columns"
      ],
      "metadata": {
        "id": "lTrO3R1i6snz"
      },
      "execution_count": null,
      "outputs": []
    },
    {
      "cell_type": "code",
      "source": [
        "df.info()"
      ],
      "metadata": {
        "id": "UHeaFBJM63Jq"
      },
      "execution_count": null,
      "outputs": []
    },
    {
      "cell_type": "code",
      "source": [
        "df.describe()"
      ],
      "metadata": {
        "id": "Z6UY7_Mo66X6"
      },
      "execution_count": null,
      "outputs": []
    },
    {
      "cell_type": "code",
      "source": [
        "df.isnull().sum()"
      ],
      "metadata": {
        "id": "PspY4Qrg6_Cq"
      },
      "execution_count": null,
      "outputs": []
    },
    {
      "cell_type": "code",
      "source": [
        "df.duplicated().sum()"
      ],
      "metadata": {
        "id": "tbp6mkdU7CQa"
      },
      "execution_count": null,
      "outputs": []
    },
    {
      "cell_type": "code",
      "source": [
        "df.corr()"
      ],
      "metadata": {
        "id": "RX0NFUj_7FMR"
      },
      "execution_count": null,
      "outputs": []
    },
    {
      "cell_type": "code",
      "source": [
        "df.skew()"
      ],
      "metadata": {
        "id": "7UdCBaQc7IzK"
      },
      "execution_count": null,
      "outputs": []
    },
    {
      "cell_type": "markdown",
      "source": [
        "###Data Visualization"
      ],
      "metadata": {
        "id": "Fyge-c-g7PWZ"
      }
    },
    {
      "cell_type": "code",
      "source": [
        "colors = px.colors.cyclical.Twilight\n",
        "fig = make_subplots(rows=1,cols=2,\n",
        "                    subplot_titles=('Countplot',\n",
        "                                    'Percentages'),\n",
        "                    specs=[[{\"type\": \"xy\"},\n",
        "                            {'type':'domain'}]])\n",
        "fig.add_trace(go.Bar(y = df['Sex'].value_counts().values.tolist(), \n",
        "                      x = df['Sex'].value_counts().index, \n",
        "                      text=df['Sex'].value_counts().values.tolist(),\n",
        "              textfont=dict(size=15),\n",
        "                      textposition = 'outside',\n",
        "                      showlegend=False,\n",
        "              marker = dict(color = colors,\n",
        "                            line_color = 'black',\n",
        "                            line_width=3)),row = 1,col = 1)\n",
        "fig.add_trace((go.Pie(labels=df['Sex'].value_counts().keys(),\n",
        "                             values=df['Sex'].value_counts().values,textfont = dict(size = 16),\n",
        "                     hole = .4,\n",
        "                     marker=dict(colors=colors),\n",
        "                     textinfo='label+percent',\n",
        "                     hoverinfo='label')), row = 1, col = 2)\n",
        "fig.update_yaxes(range=[0,800])\n",
        "#Changing plot & figure background \n",
        "fig.update_layout(\n",
        "                    paper_bgcolor= '#FFFDE7',\n",
        "                    plot_bgcolor= '#FFFDE7',\n",
        "                    title=dict(text = \"Gender Distribution\",x=0.5,y=0.95),\n",
        "                    title_font_size=30\n",
        "                  )\n",
        "iplot(fig)"
      ],
      "metadata": {
        "id": "3ClpR1Wz7Q7S"
      },
      "execution_count": null,
      "outputs": []
    },
    {
      "cell_type": "code",
      "source": [
        "colors = px.colors.cyclical.Twilight\n",
        "fig = make_subplots(rows=1,cols=2,\n",
        "                    subplot_titles=('Countplot',\n",
        "                                    'Percentages'),\n",
        "                    specs=[[{\"type\": \"xy\"},\n",
        "                            {'type':'domain'}]])\n",
        "fig.add_trace(go.Bar(y = df['ChestPainType'].value_counts().values.tolist(), \n",
        "                      x = df['ChestPainType'].value_counts().index, \n",
        "                      text=df['ChestPainType'].value_counts().values.tolist(),\n",
        "              textfont=dict(size=15),\n",
        "                      textposition = 'outside',\n",
        "                      showlegend=False,\n",
        "              marker = dict(color = colors,\n",
        "                            line_color = 'black',\n",
        "                            line_width=3)),row = 1,col = 1)\n",
        "fig.add_trace((go.Pie(labels=df['ChestPainType'].value_counts().keys(),\n",
        "                             values=df['ChestPainType'].value_counts().values,textfont = dict(size = 16),\n",
        "                     hole = .4,\n",
        "                     marker=dict(colors=colors),\n",
        "                     textinfo='label+percent',\n",
        "                     hoverinfo='label')), row = 1, col = 2)\n",
        "fig.update_yaxes(range=[0,530])\n",
        "#Changing plot & figure background \n",
        "fig.update_layout(\n",
        "                    paper_bgcolor= '#FFFDE7',\n",
        "                    plot_bgcolor= '#FFFDE7',\n",
        "                    title=dict(text = \"ChestPainType Distribution\",x=0.5,y=0.95),\n",
        "                    title_font_size=30\n",
        "                  )\n",
        "iplot(fig)"
      ],
      "metadata": {
        "id": "4BrQJ_gM7ep9"
      },
      "execution_count": null,
      "outputs": []
    },
    {
      "cell_type": "code",
      "source": [
        "colors = px.colors.cyclical.Twilight\n",
        "fig = make_subplots(rows=1,cols=2,\n",
        "                    subplot_titles=('Countplot',\n",
        "                                    'Percentages'),\n",
        "                    specs=[[{\"type\": \"xy\"},\n",
        "                            {'type':'domain'}]])\n",
        "fig.add_trace(go.Bar(y = df['FastingBS'].value_counts().values.tolist(), \n",
        "                      x = df['FastingBS'].value_counts().index, \n",
        "                      text=df['FastingBS'].value_counts().values.tolist(),\n",
        "              textfont=dict(size=15),\n",
        "                      textposition = 'outside',\n",
        "                      showlegend=False,\n",
        "              marker = dict(color = colors,\n",
        "                            line_color = 'black',\n",
        "                            line_width=3)),row = 1,col = 1)\n",
        "fig.add_trace((go.Pie(labels=df['FastingBS'].value_counts().keys(),\n",
        "                             values=df['FastingBS'].value_counts().values,textfont = dict(size = 16),\n",
        "                     hole = .4,\n",
        "                     marker=dict(colors=colors),\n",
        "                     textinfo='label+percent',\n",
        "                     hoverinfo='label')), row = 1, col = 2)\n",
        "fig.update_yaxes(range=[0,800])\n",
        "#Changing plot & figure background \n",
        "fig.update_layout(\n",
        "                    paper_bgcolor= '#FFFDE7',\n",
        "                    plot_bgcolor= '#FFFDE7',\n",
        "                    title=dict(text = \"FastingBS Distribution\",x=0.5,y=0.95),\n",
        "                    title_font_size=30\n",
        "                  )\n",
        "iplot(fig)"
      ],
      "metadata": {
        "id": "kAorw2EU7lvo"
      },
      "execution_count": null,
      "outputs": []
    },
    {
      "cell_type": "code",
      "source": [
        "colors = px.colors.cyclical.Twilight\n",
        "fig = make_subplots(rows=1,cols=2,\n",
        "                    subplot_titles=('Countplot',\n",
        "                                    'Percentages'),\n",
        "                    specs=[[{\"type\": \"xy\"},\n",
        "                            {'type':'domain'}]])\n",
        "fig.add_trace(go.Bar(y = df['RestingECG'].value_counts().values.tolist(), \n",
        "                      x = df['RestingECG'].value_counts().index, \n",
        "                      text=df['RestingECG'].value_counts().values.tolist(),\n",
        "              textfont=dict(size=15),\n",
        "                      textposition = 'outside',\n",
        "                      showlegend=False,\n",
        "              marker = dict(color = colors,\n",
        "                            line_color = 'black',\n",
        "                            line_width=3)),row = 1,col = 1)\n",
        "fig.add_trace((go.Pie(labels=df['RestingECG'].value_counts().keys(),\n",
        "                             values=df['RestingECG'].value_counts().values,textfont = dict(size = 16),\n",
        "                     hole = .4,\n",
        "                     marker=dict(colors=colors),\n",
        "                     textinfo='label+percent',\n",
        "                     hoverinfo='label')), row = 1, col = 2)\n",
        "fig.update_yaxes(range=[0,600])\n",
        "#Changing plot & figure background \n",
        "fig.update_layout(\n",
        "                    paper_bgcolor= '#FFFDE7',\n",
        "                    plot_bgcolor= '#FFFDE7',\n",
        "                    title=dict(text = \"RestingECG Distribution\",x=0.5,y=0.95),\n",
        "                    title_font_size=30\n",
        "                  )\n",
        "iplot(fig)"
      ],
      "metadata": {
        "id": "GVZqJns57sPb"
      },
      "execution_count": null,
      "outputs": []
    },
    {
      "cell_type": "code",
      "source": [
        "colors = px.colors.cyclical.Twilight\n",
        "fig = make_subplots(rows=1,cols=2,\n",
        "                    subplot_titles=('Countplot',\n",
        "                                    'Percentages'),\n",
        "                    specs=[[{\"type\": \"xy\"},\n",
        "                            {'type':'domain'}]])\n",
        "fig.add_trace(go.Bar(y = df['ExerciseAngina'].value_counts().values.tolist(), \n",
        "                      x = df['ExerciseAngina'].value_counts().index, \n",
        "                      text=df['ExerciseAngina'].value_counts().values.tolist(),\n",
        "              textfont=dict(size=15),\n",
        "                      textposition = 'outside',\n",
        "                      showlegend=False,\n",
        "              marker = dict(color = colors,\n",
        "                            line_color = 'black',\n",
        "                            line_width=3)),row = 1,col = 1)\n",
        "fig.add_trace((go.Pie(labels=df['ExerciseAngina'].value_counts().keys(),\n",
        "                             values=df['ExerciseAngina'].value_counts().values,textfont = dict(size = 16),\n",
        "                     hole = .4,\n",
        "                     marker=dict(colors=colors),\n",
        "                     textinfo='label+percent',\n",
        "                     hoverinfo='label')), row = 1, col = 2)\n",
        "fig.update_yaxes(range=[0,600])\n",
        "#Changing plot & figure background \n",
        "fig.update_layout(\n",
        "                    paper_bgcolor= '#FFFDE7',\n",
        "                    plot_bgcolor= '#FFFDE7',\n",
        "                    title=dict(text = \"ExerciseAngina Distribution\",x=0.5,y=0.95),\n",
        "                    title_font_size=30\n",
        "                  )\n",
        "iplot(fig)"
      ],
      "metadata": {
        "id": "CpjtPUjq7yQ1"
      },
      "execution_count": null,
      "outputs": []
    },
    {
      "cell_type": "code",
      "source": [
        "colors = px.colors.cyclical.Twilight\n",
        "fig = make_subplots(rows=1,cols=2,\n",
        "                    subplot_titles=('Countplot',\n",
        "                                    'Percentages'),\n",
        "                    specs=[[{\"type\": \"xy\"},\n",
        "                            {'type':'domain'}]])\n",
        "fig.add_trace(go.Bar(y = df['ST_Slope'].value_counts().values.tolist(), \n",
        "                      x = df['ST_Slope'].value_counts().index, \n",
        "                      text=df['ST_Slope'].value_counts().values.tolist(),\n",
        "              textfont=dict(size=15),\n",
        "                      textposition = 'outside',\n",
        "                      showlegend=False,\n",
        "              marker = dict(color = colors,\n",
        "                            line_color = 'black',\n",
        "                            line_width=3)),row = 1,col = 1)\n",
        "fig.add_trace((go.Pie(labels=df['ST_Slope'].value_counts().keys(),\n",
        "                             values=df['ST_Slope'].value_counts().values,textfont = dict(size = 16),\n",
        "                     hole = .4,\n",
        "                     marker=dict(colors=colors),\n",
        "                     textinfo='label+percent',\n",
        "                     hoverinfo='label')), row = 1, col = 2)\n",
        "fig.update_yaxes(range=[0,500])\n",
        "#Changing plot & figure background \n",
        "fig.update_layout(\n",
        "                    paper_bgcolor= '#FFFDE7',\n",
        "                    plot_bgcolor= '#FFFDE7',\n",
        "                    title=dict(text = \"ST_Slope Distribution\",x=0.5,y=0.95),\n",
        "                    title_font_size=30\n",
        "                  )\n",
        "iplot(fig)"
      ],
      "metadata": {
        "id": "90rPV7sX771L"
      },
      "execution_count": null,
      "outputs": []
    },
    {
      "cell_type": "code",
      "source": [
        "colors = px.colors.cyclical.Twilight\n",
        "fig = make_subplots(rows=1,cols=2,\n",
        "                    subplot_titles=('Countplot',\n",
        "                                    'Percentages'),\n",
        "                    specs=[[{\"type\": \"xy\"},\n",
        "                            {'type':'domain'}]])\n",
        "fig.add_trace(go.Bar(y = df['HeartDisease'].value_counts().values.tolist(), \n",
        "                      x = df['HeartDisease'].value_counts().index, \n",
        "                      text=df['HeartDisease'].value_counts().values.tolist(),\n",
        "              textfont=dict(size=15),\n",
        "                      textposition = 'outside',\n",
        "                      showlegend=False,\n",
        "              marker = dict(color = colors,\n",
        "                            line_color = 'black',\n",
        "                            line_width=3)),row = 1,col = 1)\n",
        "fig.add_trace((go.Pie(labels=df['HeartDisease'].value_counts().keys(),\n",
        "                             values=df['HeartDisease'].value_counts().values,textfont = dict(size = 16),\n",
        "                     hole = .4,\n",
        "                     marker=dict(colors=colors),\n",
        "                     textinfo='label+percent',\n",
        "                     hoverinfo='label')), row = 1, col = 2)\n",
        "fig.update_yaxes(range=[0,550])\n",
        "#Changing plot & figure background \n",
        "fig.update_layout(\n",
        "                    paper_bgcolor= '#FFFDE7',\n",
        "                    plot_bgcolor= '#FFFDE7',\n",
        "                    title=dict(text = \"HeartDisease Distribution\",x=0.5,y=0.95),\n",
        "                    title_font_size=30\n",
        "                  )\n",
        "iplot(fig)"
      ],
      "metadata": {
        "id": "74l_lVfd8Cb7"
      },
      "execution_count": null,
      "outputs": []
    },
    {
      "cell_type": "code",
      "source": [
        "# Using facet_row and or facet_col arguments to create Sub plots\n",
        "fig = px.scatter(df, \n",
        "                 x=df.Age, \n",
        "                 y=df.Cholesterol, \n",
        "                 color=df.HeartDisease, \n",
        "                 facet_col=df.FastingBS,\n",
        "                 facet_row=df.Sex,\n",
        "                 color_discrete_map={1: \"#FF5722\",0: \"#7CB342\"},\n",
        "                 width=950, \n",
        "                 height=800,\n",
        "                 title=\"HeartDisease Data\")\n",
        "\n",
        "fig.update_layout(\n",
        "                    plot_bgcolor= \"#dcedc1\",\n",
        "                    paper_bgcolor=\"#FFFDE7\",\n",
        "                 )\n",
        "\n",
        "\n",
        "fig.show()\n",
        "#po.plot(fig)"
      ],
      "metadata": {
        "id": "TRLb80ey8zro"
      },
      "execution_count": null,
      "outputs": []
    },
    {
      "cell_type": "code",
      "source": [
        "cat = ['Sex', 'ChestPainType','FastingBS','RestingECG',\n",
        "                          'ExerciseAngina',  'ST_Slope','HeartDisease']\n",
        "num = ['Age','RestingBP','Cholesterol','MaxHR','Oldpeak']"
      ],
      "metadata": {
        "id": "uMP-RzN8_18o"
      },
      "execution_count": null,
      "outputs": []
    },
    {
      "cell_type": "code",
      "source": [
        "import seaborn as sns\n",
        "sns.set_theme(rc = {'figure.dpi': 250, 'axes.labelsize': 7, \n",
        "                    'axes.facecolor': '#FFFDE7', 'grid.color': '#fffdfa', \n",
        "                    'figure.facecolor': '#FFFDE7'}, font_scale = 0.55)\n",
        "fig, ax = plt.subplots(3, 2, figsize = (6.5, 9))\n",
        "for indx, (column, axes) in list(enumerate(list(zip(cat, ax.flatten())))):\n",
        "    if column not in 'HearDisease':\n",
        "        sns.countplot(ax = axes, x = df[column], hue = df['HeartDisease'], palette = colors, alpha = 1)  \n",
        "else:\n",
        "    [axes.set_visible(False) for axes in ax.flatten()[indx + 1:]]   \n",
        "axes_legend = ax.flatten()\n",
        "axes_legend[1].legend(title = 'HeartDisease', loc = 'upper right')\n",
        "axes_legend[2].legend(title = 'HeartDisease', loc = 'upper right')\n",
        "plt.show()"
      ],
      "metadata": {
        "id": "dVKXXkbw_7K6"
      },
      "execution_count": null,
      "outputs": []
    },
    {
      "cell_type": "code",
      "source": [
        "import seaborn as sns\n",
        "sns.set_theme(rc = {'figure.dpi': 250, 'axes.labelsize': 7, \n",
        "                    'axes.facecolor': '#FFFDE7', 'grid.color': '#fffdfa', \n",
        "                    'figure.facecolor': '#FFFDE7'}, font_scale = 0.55)\n",
        "fig, ax = plt.subplots(3, 2, figsize = (6.5, 9))\n",
        "for indx, (column, axes) in list(enumerate(list(zip(cat[1:], ax.flatten())))):\n",
        "    sns.countplot(ax = axes, x = df[column], hue = df['Sex'], palette = colors, alpha = 1)  \n",
        "else:\n",
        "    [axes.set_visible(False) for axes in ax.flatten()[indx + 1:]]   \n",
        "axes_legend = ax.flatten()\n",
        "axes_legend[1].legend(title = 'Sex', loc = 'upper right')\n",
        "axes_legend[2].legend(title = 'Sex', loc = 'upper right')\n",
        "plt.show()"
      ],
      "metadata": {
        "id": "XajSbjpPAInS"
      },
      "execution_count": null,
      "outputs": []
    },
    {
      "cell_type": "code",
      "source": [
        "import seaborn as sns\n",
        "sns.set_theme(rc = {'figure.dpi': 250, 'axes.labelsize': 7, \n",
        "                    'axes.facecolor': '#FFFDE7', 'grid.color': '#fffdfa', \n",
        "                    'figure.facecolor': '#FFFDE7'}, font_scale = 0.55)\n",
        "fig, ax = plt.subplots(3, 2, figsize = (6.5, 9))\n",
        "cat2 = []\n",
        "for i in cat:\n",
        "    if i not in 'ChestPainType':\n",
        "        cat2.append(i)\n",
        "for indx, (column, axes) in list(enumerate(list(zip(cat2, ax.flatten())))):\n",
        "    sns.countplot(ax = axes, x = df[column], hue = df['ChestPainType'], palette = colors, alpha = 1)  \n",
        "else:\n",
        "    [axes.set_visible(False) for axes in ax.flatten()[indx + 1:]]   \n",
        "axes_legend = ax.flatten()\n",
        "axes_legend[1].legend(title = 'ChestPainType', loc = 'upper right')\n",
        "axes_legend[2].legend(title = 'ChestPainType', loc = 'upper right')\n",
        "plt.show()"
      ],
      "metadata": {
        "id": "F2RlbfVjAUI7"
      },
      "execution_count": null,
      "outputs": []
    },
    {
      "cell_type": "code",
      "source": [
        "import seaborn as sns\n",
        "sns.set_theme(rc = {'figure.dpi': 250, 'axes.labelsize': 7, \n",
        "                    'axes.facecolor': '#FFFDE7', 'grid.color': '#fffdfa', \n",
        "                    'figure.facecolor': '#FFFDE7'}, font_scale = 0.55)\n",
        "fig, ax = plt.subplots(3, 2, figsize = (6.5, 9))\n",
        "cat2 = []\n",
        "for i in cat:\n",
        "    if i not in 'FastingBS':\n",
        "        cat2.append(i)\n",
        "for indx, (column, axes) in list(enumerate(list(zip(cat2, ax.flatten())))):\n",
        "    sns.countplot(ax = axes, x = df[column], hue = df['FastingBS'], palette = colors, alpha = 1)  \n",
        "else:\n",
        "    [axes.set_visible(False) for axes in ax.flatten()[indx + 1:]]   \n",
        "axes_legend = ax.flatten()\n",
        "axes_legend[1].legend(title = 'FastingBS', loc = 'upper right')\n",
        "axes_legend[2].legend(title = 'FastingBS', loc = 'upper right')\n",
        "plt.show()"
      ],
      "metadata": {
        "id": "5if5JIA4AZAm"
      },
      "execution_count": null,
      "outputs": []
    },
    {
      "cell_type": "code",
      "source": [
        "import seaborn as sns\n",
        "sns.set_theme(rc = {'figure.dpi': 250, 'axes.labelsize': 7, \n",
        "                    'axes.facecolor': '#FFFDE7', 'grid.color': '#fffdfa', \n",
        "                    'figure.facecolor': '#FFFDE7'}, font_scale = 0.55)\n",
        "fig, ax = plt.subplots(3, 2, figsize = (6.5, 9))\n",
        "cat2 = []\n",
        "for i in cat:\n",
        "    if i not in 'RestingECG':\n",
        "        cat2.append(i)\n",
        "for indx, (column, axes) in list(enumerate(list(zip(cat2, ax.flatten())))):\n",
        "    sns.countplot(ax = axes, x = df[column], hue = df['RestingECG'], palette = colors, alpha = 1)  \n",
        "else:\n",
        "    [axes.set_visible(False) for axes in ax.flatten()[indx + 1:]]   \n",
        "axes_legend = ax.flatten()\n",
        "axes_legend[1].legend(title = 'RestingECG', loc = 'upper right')\n",
        "axes_legend[2].legend(title = 'RestingECG', loc = 'upper right')\n",
        "plt.show()"
      ],
      "metadata": {
        "id": "YnIwmVYmAe9x"
      },
      "execution_count": null,
      "outputs": []
    },
    {
      "cell_type": "code",
      "source": [
        "import seaborn as sns\n",
        "sns.set_theme(rc = {'figure.dpi': 250, 'axes.labelsize': 7, \n",
        "                    'axes.facecolor': '#FFFDE7', 'grid.color': '#fffdfa', \n",
        "                    'figure.facecolor': '#FFFDE7'}, font_scale = 0.55)\n",
        "fig, ax = plt.subplots(3, 2, figsize = (6.5, 9))\n",
        "cat2 = []\n",
        "for i in cat:\n",
        "    if i not in 'ExerciseAngina':\n",
        "        cat2.append(i)\n",
        "for indx, (column, axes) in list(enumerate(list(zip(cat2, ax.flatten())))):\n",
        "    sns.countplot(ax = axes, x = df[column], hue = df['ExerciseAngina'], palette = colors, alpha = 1)  \n",
        "else:\n",
        "    [axes.set_visible(False) for axes in ax.flatten()[indx + 1:]]   \n",
        "axes_legend = ax.flatten()\n",
        "axes_legend[1].legend(title = 'ExerciseAngina', loc = 'upper right')\n",
        "axes_legend[2].legend(title = 'ExerciseAngina', loc = 'upper right')\n",
        "plt.show()"
      ],
      "metadata": {
        "id": "k-w8JUZVAjgB"
      },
      "execution_count": null,
      "outputs": []
    },
    {
      "cell_type": "code",
      "source": [
        "import seaborn as sns\n",
        "sns.set_theme(rc = {'figure.dpi': 250, 'axes.labelsize': 7, \n",
        "                    'axes.facecolor': '#FFFDE7', 'grid.color': '#fffdfa', \n",
        "                    'figure.facecolor': '#FFFDE7'}, font_scale = 0.55)\n",
        "fig, ax = plt.subplots(3, 2, figsize = (6.5, 9))\n",
        "cat2 = []\n",
        "for i in cat:\n",
        "    if i not in 'ST_Slope':\n",
        "        cat2.append(i)\n",
        "for indx, (column, axes) in list(enumerate(list(zip(cat2, ax.flatten())))):\n",
        "    sns.countplot(ax = axes, x = df[column], hue = df['ST_Slope'], palette = colors, alpha = 1)  \n",
        "else:\n",
        "    [axes.set_visible(False) for axes in ax.flatten()[indx + 1:]]   \n",
        "axes_legend = ax.flatten()\n",
        "axes_legend[1].legend(title = 'ST_Slope', loc = 'upper right')\n",
        "axes_legend[2].legend(title = 'ST_Slope', loc = 'upper right')\n",
        "plt.show()"
      ],
      "metadata": {
        "id": "iQefigldApQV"
      },
      "execution_count": null,
      "outputs": []
    },
    {
      "cell_type": "code",
      "source": [
        "sns.set_theme(rc = {'figure.dpi': 250, 'axes.labelsize': 7, \n",
        "                    'axes.facecolor': '#FFFDE7', 'grid.color': '#fffdfa', \n",
        "                    'figure.facecolor': '#FFFDE7'}, font_scale = 0.55)\n",
        "fig, ax = plt.subplots(4, 2, figsize = (6.5, 7.5))\n",
        "for indx, (column, axes) in list(enumerate(list(zip(cat, ax.flatten())))):\n",
        "    \n",
        "    sns.violinplot(ax = axes, x = df[column], \n",
        "                   y = df['Age'],\n",
        "                   scale = 'width', linewidth = 0.5, \n",
        "                   palette = colors, inner = None)\n",
        "    \n",
        "    plt.setp(axes.collections, alpha = 0.3)\n",
        "    \n",
        "    sns.stripplot(ax = axes, x = df[column], \n",
        "                  y = df['Age'],\n",
        "                  palette = colors, alpha = 0.9, \n",
        "                  s = 1.5, jitter = 0.07)\n",
        "    sns.pointplot(ax = axes, x = df[column],\n",
        "                  y = df['Age'],\n",
        "                  color = '#ff5736', scale = 0.25,\n",
        "                  estimator = np.mean, ci = 'sd',\n",
        "                  errwidth = 0.5, capsize = 0.15, join = True)\n",
        "    \n",
        "    plt.setp(axes.lines, zorder = 100)\n",
        "    plt.setp(axes.collections, zorder = 100)\n",
        "    \n",
        "else:\n",
        "    [axes.set_visible(False) for axes in ax.flatten()[indx + 1:]]\n",
        "    \n",
        "plt.tight_layout()\n",
        "plt.show()"
      ],
      "metadata": {
        "id": "95TPybP4Atvd"
      },
      "execution_count": null,
      "outputs": []
    },
    {
      "cell_type": "code",
      "source": [
        "sns.set_theme(rc = {'figure.dpi': 250, 'axes.labelsize': 7, \n",
        "                    'axes.facecolor': '#FFFDE7', 'grid.color': '#fffdfa', \n",
        "                    'figure.facecolor': '#FFFDE7'}, font_scale = 0.55)\n",
        "fig, ax = plt.subplots(4, 2, figsize = (6.5, 7.5))\n",
        "for indx, (column, axes) in list(enumerate(list(zip(cat, ax.flatten())))):\n",
        "    \n",
        "    sns.violinplot(ax = axes, x = df[column], \n",
        "                   y = df['RestingBP'],\n",
        "                   scale = 'width', linewidth = 0.5, \n",
        "                   palette = colors, inner = None)\n",
        "    \n",
        "    plt.setp(axes.collections, alpha = 0.3)\n",
        "    \n",
        "    sns.stripplot(ax = axes, x = df[column], \n",
        "                  y = df['RestingBP'],\n",
        "                  palette = colors, alpha = 0.9, \n",
        "                  s = 1.5, jitter = 0.07)\n",
        "    sns.pointplot(ax = axes, x = df[column],\n",
        "                  y = df['RestingBP'],\n",
        "                  color = '#ff5736', scale = 0.25,\n",
        "                  estimator = np.mean, ci = 'sd',\n",
        "                  errwidth = 0.5, capsize = 0.15, join = True)\n",
        "    \n",
        "    plt.setp(axes.lines, zorder = 100)\n",
        "    plt.setp(axes.collections, zorder = 100)\n",
        "    \n",
        "else:\n",
        "    [axes.set_visible(False) for axes in ax.flatten()[indx + 1:]]\n",
        "    \n",
        "plt.tight_layout()\n",
        "plt.show()"
      ],
      "metadata": {
        "id": "FZvvWdKLAztc"
      },
      "execution_count": null,
      "outputs": []
    },
    {
      "cell_type": "code",
      "source": [
        "sns.set_theme(rc = {'figure.dpi': 250, 'axes.labelsize': 7, \n",
        "                    'axes.facecolor': '#FFFDE7', 'grid.color': '#fffdfa', \n",
        "                    'figure.facecolor': '#FFFDE7'}, font_scale = 0.55)\n",
        "fig, ax = plt.subplots(4, 2, figsize = (6.5, 7.5))\n",
        "for indx, (column, axes) in list(enumerate(list(zip(cat, ax.flatten())))):\n",
        "    \n",
        "    sns.violinplot(ax = axes, x = df[column], \n",
        "                   y = df['Cholesterol'],\n",
        "                   scale = 'width', linewidth = 0.5, \n",
        "                   palette = colors, inner = None)\n",
        "    \n",
        "    plt.setp(axes.collections, alpha = 0.3)\n",
        "    \n",
        "    sns.stripplot(ax = axes, x = df[column], \n",
        "                  y = df['Cholesterol'],\n",
        "                  palette = colors, alpha = 0.9, \n",
        "                  s = 1.5, jitter = 0.07)\n",
        "    sns.pointplot(ax = axes, x = df[column],\n",
        "                  y = df['Cholesterol'],\n",
        "                  color = '#ff5736', scale = 0.25,\n",
        "                  estimator = np.mean, ci = 'sd',\n",
        "                  errwidth = 0.5, capsize = 0.15, join = True)\n",
        "    \n",
        "    plt.setp(axes.lines, zorder = 100)\n",
        "    plt.setp(axes.collections, zorder = 100)\n",
        "    \n",
        "else:\n",
        "    [axes.set_visible(False) for axes in ax.flatten()[indx + 1:]]\n",
        "    \n",
        "plt.tight_layout()\n",
        "plt.show()"
      ],
      "metadata": {
        "id": "6MJu71_-A53O"
      },
      "execution_count": null,
      "outputs": []
    },
    {
      "cell_type": "code",
      "source": [
        "sns.set_theme(rc = {'figure.dpi': 250, 'axes.labelsize': 7, \n",
        "                    'axes.facecolor': '#FFFDE7', 'grid.color': '#fffdfa', \n",
        "                    'figure.facecolor': '#FFFDE7'}, font_scale = 0.55)\n",
        "fig, ax = plt.subplots(4, 2, figsize = (6.5, 7.5))\n",
        "for indx, (column, axes) in list(enumerate(list(zip(cat, ax.flatten())))):\n",
        "    \n",
        "    sns.violinplot(ax = axes, x = df[column], \n",
        "                   y = df['MaxHR'],\n",
        "                   scale = 'width', linewidth = 0.5, \n",
        "                   palette = colors, inner = None)\n",
        "    \n",
        "    plt.setp(axes.collections, alpha = 0.3)\n",
        "    \n",
        "    sns.stripplot(ax = axes, x = df[column], \n",
        "                  y = df['MaxHR'],\n",
        "                  palette = colors, alpha = 0.9, \n",
        "                  s = 1.5, jitter = 0.07)\n",
        "    sns.pointplot(ax = axes, x = df[column],\n",
        "                  y = df['MaxHR'],\n",
        "                  color = '#ff5736', scale = 0.25,\n",
        "                  estimator = np.mean, ci = 'sd',\n",
        "                  errwidth = 0.5, capsize = 0.15, join = True)\n",
        "    \n",
        "    plt.setp(axes.lines, zorder = 100)\n",
        "    plt.setp(axes.collections, zorder = 100)\n",
        "    \n",
        "else:\n",
        "    [axes.set_visible(False) for axes in ax.flatten()[indx + 1:]]\n",
        "    \n",
        "plt.tight_layout()\n",
        "plt.show()"
      ],
      "metadata": {
        "id": "43gYlEutA-Xj"
      },
      "execution_count": null,
      "outputs": []
    },
    {
      "cell_type": "code",
      "source": [
        "sns.set_theme(rc = {'figure.dpi': 250, 'axes.labelsize': 7, \n",
        "                    'axes.facecolor': '#FFFDE7', 'grid.color': '#fffdfa', \n",
        "                    'figure.facecolor': '#FFFDE7'}, font_scale = 0.55)\n",
        "fig, ax = plt.subplots(4, 2, figsize = (6.5, 7.5))\n",
        "for indx, (column, axes) in list(enumerate(list(zip(cat, ax.flatten())))):\n",
        "    \n",
        "    sns.violinplot(ax = axes, x = df[column], \n",
        "                   y = df['Oldpeak'],\n",
        "                   scale = 'width', linewidth = 0.5, \n",
        "                   palette = colors, inner = None)\n",
        "    \n",
        "    plt.setp(axes.collections, alpha = 0.3)\n",
        "    \n",
        "    sns.stripplot(ax = axes, x = df[column], \n",
        "                  y = df['Oldpeak'],\n",
        "                  palette = colors, alpha = 0.9, \n",
        "                  s = 1.5, jitter = 0.07)\n",
        "    sns.pointplot(ax = axes, x = df[column],\n",
        "                  y = df['Oldpeak'],\n",
        "                  color = '#ff5736', scale = 0.25,\n",
        "                  estimator = np.mean, ci = 'sd',\n",
        "                  errwidth = 0.5, capsize = 0.15, join = True)\n",
        "    \n",
        "    plt.setp(axes.lines, zorder = 100)\n",
        "    plt.setp(axes.collections, zorder = 100)\n",
        "    \n",
        "else:\n",
        "    [axes.set_visible(False) for axes in ax.flatten()[indx + 1:]]\n",
        "    \n",
        "plt.tight_layout()\n",
        "plt.show()"
      ],
      "metadata": {
        "id": "5xEHopu1BEFZ"
      },
      "execution_count": null,
      "outputs": []
    },
    {
      "cell_type": "code",
      "source": [
        "sns.set_theme(rc = {'figure.dpi': 120, 'axes.labelsize': 8, \n",
        "                    'axes.facecolor': '#FFFDE7', 'grid.color': '#fffdfa', \n",
        "                    'figure.facecolor': '#FFFDE7'}, font_scale = 0.65)\n",
        "\n",
        "fig, ax = plt.subplots(5, 1, figsize = (7, 14))\n",
        "\n",
        "for indx, (column, axes) in list(enumerate(list(zip(num, ax.flatten())))):\n",
        "    \n",
        "    sns.scatterplot(ax = axes, y = df[column].index, x = df[column], \n",
        "                    hue = df['HeartDisease'], palette = 'magma', alpha = 0.8)\n",
        "    \n",
        "else:\n",
        "    [axes.set_visible(False) for axes in ax.flatten()[indx + 1:]]\n",
        "    \n",
        "plt.tight_layout()\n",
        "plt.show()"
      ],
      "metadata": {
        "id": "TOqn8nAjBNJu"
      },
      "execution_count": null,
      "outputs": []
    },
    {
      "cell_type": "code",
      "source": [
        "sns.set_theme(rc = {'figure.dpi': 120, 'axes.labelsize': 8, \n",
        "                    'axes.facecolor': '#FFFDE7', 'grid.color': '#fffdfa', \n",
        "                    'figure.facecolor': '#FFFDE7'}, font_scale = 0.65)\n",
        "\n",
        "fig, ax = plt.subplots(5, 1, figsize = (7, 14))\n",
        "\n",
        "for indx, (column, axes) in list(enumerate(list(zip(num, ax.flatten())))):\n",
        "    \n",
        "    sns.histplot(ax = axes, x = df[column], hue = df['HeartDisease'], \n",
        "                 palette = 'magma', alpha = 0.8, multiple = 'stack')\n",
        "    \n",
        "    legend = axes.get_legend() # sns.hisplot has some issues with legend\n",
        "    handles = legend.legendHandles\n",
        "    legend.remove()\n",
        "    axes.legend(handles, ['0', '1'], title = 'HeartDisease', loc = 'upper right')\n",
        "    Quantiles = np.quantile(df[column], [0, 0.25, 0.50, 0.75, 1])\n",
        "    \n",
        "    for q in Quantiles: axes.axvline(x = q, linewidth = 0.5, color = 'r')\n",
        "        \n",
        "plt.tight_layout()\n",
        "plt.show()"
      ],
      "metadata": {
        "id": "IzQ15kf-BVOE"
      },
      "execution_count": null,
      "outputs": []
    },
    {
      "cell_type": "code",
      "source": [
        "plt.figure(figsize=(16,11))\n",
        "sns.set(rc={\"axes.facecolor\":\"#b0deff\",\"axes.grid\":False,\n",
        "            'xtick.labelsize':15,'ytick.labelsize':15,\n",
        "            'axes.labelsize':20,'figure.figsize':(20.0, 9.0)})\n",
        "params = dict(data=df ,x = df.Sex ,y = df.Age ,hue=df.HeartDisease,dodge=True)\n",
        "sns.stripplot(**params , size=8,jitter=0.35,palette=['#33FF66','#FF6600'],edgecolor='black',linewidth=1)\n",
        "sns.boxplot(**params ,palette=['#BDBDBD','#E0E0E0'],linewidth=6)\n",
        "plt.show()"
      ],
      "metadata": {
        "id": "K06LOOfBBb5H"
      },
      "execution_count": null,
      "outputs": []
    },
    {
      "cell_type": "code",
      "source": [
        "cat"
      ],
      "metadata": {
        "id": "dPkVipuxBgcl"
      },
      "execution_count": null,
      "outputs": []
    },
    {
      "cell_type": "code",
      "source": [
        "plt.figure(figsize=(16,11))\n",
        "sns.set(rc={\"axes.facecolor\":\"#b0deff\",\"axes.grid\":False,\n",
        "            'xtick.labelsize':15,'ytick.labelsize':15,\n",
        "            'axes.labelsize':20,'figure.figsize':(20.0, 9.0)})\n",
        "params = dict(data=df ,x = df.ChestPainType,y = df.Age ,hue=df.HeartDisease,dodge=True)\n",
        "sns.stripplot(**params , size=8,jitter=0.35,palette=['#33FF66','#FF6600'],edgecolor='black',linewidth=1)\n",
        "sns.boxplot(**params ,palette=['#BDBDBD','#E0E0E0'],linewidth=6)\n",
        "plt.show()"
      ],
      "metadata": {
        "id": "JJWZ6jbwBmU1"
      },
      "execution_count": null,
      "outputs": []
    },
    {
      "cell_type": "code",
      "source": [
        "df1 = df[df['HeartDisease'].isin([0,1])]\n",
        "df1.head()"
      ],
      "metadata": {
        "id": "yE0SDRBSBq5X"
      },
      "execution_count": null,
      "outputs": []
    },
    {
      "cell_type": "code",
      "source": [
        "# Plot a subset of variables\n",
        "g = sns.PairGrid(df1 , hue='Sex' ,vars=[\"Age\",\"RestingBP\",\"Cholesterol\"],height=5, aspect=1)\n",
        "g = g.map_offdiag(plt.scatter , edgecolor=\"w\", s=130)\n",
        "g = g.map_diag(plt.hist , edgecolor ='w', linewidth=2)\n",
        "g = g.add_legend()\n",
        "plt.show()"
      ],
      "metadata": {
        "id": "SyXhaoxgBxLP"
      },
      "execution_count": null,
      "outputs": []
    },
    {
      "cell_type": "code",
      "source": [
        "# Plot a subset of variables\n",
        "g = sns.PairGrid(df1 , hue='Sex' ,vars=[\"MaxHR\",\"Oldpeak\"],height=5, aspect=1)\n",
        "g = g.map_offdiag(plt.scatter , edgecolor=\"w\", s=130)\n",
        "g = g.map_diag(plt.hist , edgecolor ='w', linewidth=2)\n",
        "g = g.add_legend()\n",
        "plt.show()"
      ],
      "metadata": {
        "id": "tGIhNWO8B31f"
      },
      "execution_count": null,
      "outputs": []
    },
    {
      "cell_type": "code",
      "source": [
        "''' Plot a Shifted Correlation Matrix '''\n",
        "# Diagonal correlation is always unity & less relevant, shifted variant shows only relevant cases\n",
        "def corrMat(df,id=False):\n",
        "    \n",
        "    corr_mat = df.corr().round(2)\n",
        "    f, ax = plt.subplots(figsize=(10,7))\n",
        "    mask = np.triu(np.ones_like(corr_mat, dtype=bool))\n",
        "    mask = mask[1:,:-1]\n",
        "    corr = corr_mat.iloc[1:,:-1].copy()\n",
        "    sns.heatmap(corr,mask=mask,vmin=-0.3,vmax=0.3,center=0, \n",
        "                cmap='RdPu_r',square=False,lw=2,annot=True,cbar=False)\n",
        "#     bottom, top = ax.get_ylim() \n",
        "#     ax.set_ylim(bottom + 0.5, top - 0.5) \n",
        "    ax.set_title('Shifted Linear Correlation Matrix')\n",
        "    \n",
        "corrMat(df)"
      ],
      "metadata": {
        "id": "j1mpYbNuB_Y4"
      },
      "execution_count": null,
      "outputs": []
    },
    {
      "cell_type": "code",
      "source": [
        "df2 = df.groupby('Sex').agg({'Age' : 'mean', \"ChestPainType\":'count','RestingBP':'mean','Cholesterol':'mean',\n",
        "                            'FastingBS':'sum','RestingECG':'count','MaxHR':'mean','ExerciseAngina':'count','Oldpeak':'mean',\n",
        "                            'ST_Slope':'count','HeartDisease':'sum'})\n",
        "df2\n",
        "# average age is same for both male and female"
      ],
      "metadata": {
        "id": "6DGu9R_nCjIR"
      },
      "execution_count": null,
      "outputs": []
    },
    {
      "cell_type": "code",
      "source": [
        "px.bar(data_frame=df2, barmode='group',\n",
        "       title = \"<b>Gender wise Analyzing</b>\",template=\"plotly_dark\")"
      ],
      "metadata": {
        "id": "PdUc5nTdCn_6"
      },
      "execution_count": null,
      "outputs": []
    },
    {
      "cell_type": "markdown",
      "source": [
        "###Count of Outliers"
      ],
      "metadata": {
        "id": "D1neOHXFCtig"
      }
    },
    {
      "cell_type": "code",
      "source": [
        "def count_outliers(data,col):\n",
        "        q1 = data[col].quantile(0.25,interpolation='nearest')\n",
        "        q2 = data[col].quantile(0.5,interpolation='nearest')\n",
        "        q3 = data[col].quantile(0.75,interpolation='nearest')\n",
        "        q4 = data[col].quantile(1,interpolation='nearest')\n",
        "        IQR = q3 -q1\n",
        "        global LLP\n",
        "        global ULP\n",
        "        LLP = q1 - 1.5*IQR\n",
        "        ULP = q3 + 1.5*IQR\n",
        "        if data[col].min() > LLP and data[col].max() < ULP:\n",
        "            print(\"No outliers in\",i)\n",
        "        else:\n",
        "            print(\"There are outliers in\",i)\n",
        "            x = data[data[col]<LLP][col].size\n",
        "            y = data[data[col]>ULP][col].size\n",
        "            a.append(i)\n",
        "            print('Count of outliers are:',x+y)\n",
        "global a\n",
        "a = []\n",
        "for i in num:\n",
        "    count_outliers(df,i)"
      ],
      "metadata": {
        "id": "0E63Y8VgCvgy"
      },
      "execution_count": null,
      "outputs": []
    },
    {
      "cell_type": "markdown",
      "source": [
        "###Data Preprocessing"
      ],
      "metadata": {
        "id": "0vN0rtWPC4Fp"
      }
    },
    {
      "cell_type": "code",
      "source": [
        "def LABEL_ENCODING(c1):\n",
        "    from sklearn import preprocessing\n",
        "    label_encoder = preprocessing.LabelEncoder()\n",
        "    df[c1]= label_encoder.fit_transform(df[c1])\n",
        "    df[c1].unique()"
      ],
      "metadata": {
        "id": "3ncFVZfgC8EE"
      },
      "execution_count": null,
      "outputs": []
    },
    {
      "cell_type": "code",
      "source": [
        "LABEL_ENCODING(\"Sex\")\n",
        "LABEL_ENCODING(\"ChestPainType\")\n",
        "LABEL_ENCODING(\"RestingECG\")\n",
        "LABEL_ENCODING(\"ExerciseAngina\")\n",
        "LABEL_ENCODING(\"ST_Slope\")\n",
        "df"
      ],
      "metadata": {
        "id": "hyU583mVC_JL"
      },
      "execution_count": null,
      "outputs": []
    },
    {
      "cell_type": "markdown",
      "source": [
        "###Feature Scaling"
      ],
      "metadata": {
        "id": "aYbd-LY6DIIC"
      }
    },
    {
      "cell_type": "code",
      "source": [
        "scaler = StandardScaler()\n",
        "scaler.fit(df.drop('HeartDisease',axis = 1))"
      ],
      "metadata": {
        "id": "Q9jrLolrDJlB"
      },
      "execution_count": null,
      "outputs": []
    },
    {
      "cell_type": "code",
      "source": [
        "scaled_features = scaler.transform(df.drop('HeartDisease',axis = 1))\n",
        "df_feat = pd.DataFrame(scaled_features,columns = df.columns[:-1])\n",
        "df_feat.head()"
      ],
      "metadata": {
        "id": "ZEwP5_kLDQAD"
      },
      "execution_count": null,
      "outputs": []
    },
    {
      "cell_type": "markdown",
      "source": [
        "###Feature Selection"
      ],
      "metadata": {
        "id": "h8Fm_P4UDU6D"
      }
    },
    {
      "cell_type": "code",
      "source": [
        "X = df_feat\n",
        "y = df['HeartDisease']\n",
        "X_train, X_test, y_train, y_test = train_test_split(X, y, test_size=0.3, random_state=101)"
      ],
      "metadata": {
        "id": "vNyIqSgmDV9i"
      },
      "execution_count": null,
      "outputs": []
    },
    {
      "cell_type": "markdown",
      "source": [
        "###Predictionof Heart Disease using KNN"
      ],
      "metadata": {
        "id": "Y3eAppmzDbKS"
      }
    },
    {
      "cell_type": "code",
      "source": [
        "knn = KNeighborsClassifier(n_neighbors = 9)\n",
        "knn.fit(X_train,y_train)"
      ],
      "metadata": {
        "id": "9AWqspWqDcOh"
      },
      "execution_count": null,
      "outputs": []
    },
    {
      "cell_type": "code",
      "source": [
        "pred = knn.predict(X_test)\n",
        "pred"
      ],
      "metadata": {
        "id": "qOSlJqVrDkwz"
      },
      "execution_count": null,
      "outputs": []
    },
    {
      "cell_type": "code",
      "source": [
        "print(confusion_matrix(y_test,pred))"
      ],
      "metadata": {
        "id": "3rpH4mn5DpPy"
      },
      "execution_count": null,
      "outputs": []
    },
    {
      "cell_type": "code",
      "source": [
        "print(classification_report(y_test,pred))"
      ],
      "metadata": {
        "id": "IFY_7o1_Dsb6"
      },
      "execution_count": null,
      "outputs": []
    },
    {
      "cell_type": "code",
      "source": [
        "error_rate= []\n",
        "for i in range(1,40):\n",
        "    knn = KNeighborsClassifier(n_neighbors = i)\n",
        "    knn.fit(X_train,y_train)\n",
        "    pred_i = knn.predict(X_test)\n",
        "    error_rate.append(np.mean(pred_i != y_test))"
      ],
      "metadata": {
        "id": "j6hSX8w3DwII"
      },
      "execution_count": null,
      "outputs": []
    },
    {
      "cell_type": "code",
      "source": [
        "plt.figure(figsize = (10,6))\n",
        "plt.plot(range(1,40),error_rate,color = 'blue',linestyle = '--',marker = 'o',markerfacecolor='red',markersize = 10)\n",
        "plt.title('Error Rate vs K')\n",
        "plt.xlabel('K')\n",
        "plt.ylabel('Error Rate')"
      ],
      "metadata": {
        "id": "FPAy40IpDzYT"
      },
      "execution_count": null,
      "outputs": []
    },
    {
      "cell_type": "code",
      "source": [
        "print(\"Accuracy:\",metrics.accuracy_score(y_test, pred))"
      ],
      "metadata": {
        "id": "V6PtsyY8D30O"
      },
      "execution_count": null,
      "outputs": []
    },
    {
      "cell_type": "markdown",
      "source": [
        "###Predictionof Heart Disease using Random Forest Classifier"
      ],
      "metadata": {
        "id": "gTC6KXAOD7Cj"
      }
    },
    {
      "cell_type": "code",
      "source": [
        "forest= RandomForestClassifier(n_estimators =40, random_state = 0)\n",
        "forest.fit(X_train,y_train)  \n",
        "y_pred = forest.predict(X_test)"
      ],
      "metadata": {
        "id": "LQm_1JzID8GK"
      },
      "execution_count": null,
      "outputs": []
    },
    {
      "cell_type": "code",
      "source": [
        "print(confusion_matrix(y_test,y_pred))"
      ],
      "metadata": {
        "id": "dyXRkVwQEB5c"
      },
      "execution_count": null,
      "outputs": []
    },
    {
      "cell_type": "code",
      "source": [
        "print(classification_report(y_test,y_pred))"
      ],
      "metadata": {
        "id": "nEEIbh8MEFHD"
      },
      "execution_count": null,
      "outputs": []
    },
    {
      "cell_type": "code",
      "source": [
        "print(\"Accuracy:\",forest.score(X_test,y_test))"
      ],
      "metadata": {
        "id": "ZeRocFztEIgy"
      },
      "execution_count": null,
      "outputs": []
    },
    {
      "cell_type": "markdown",
      "source": [
        "###Predictionof Heart Disease using Logistic Regression Classifier"
      ],
      "metadata": {
        "id": "45q49ff1EP_e"
      }
    },
    {
      "cell_type": "code",
      "source": [
        "logmodel = LogisticRegression()\n",
        "logmodel.fit(X_train,y_train)\n",
        "pred = logmodel.predict(X_test)"
      ],
      "metadata": {
        "id": "bugatDSWERAg"
      },
      "execution_count": null,
      "outputs": []
    },
    {
      "cell_type": "code",
      "source": [
        "print(confusion_matrix(y_test,pred))"
      ],
      "metadata": {
        "id": "47BPNZXEEXGb"
      },
      "execution_count": null,
      "outputs": []
    },
    {
      "cell_type": "code",
      "source": [
        "print(classification_report(y_test,pred))"
      ],
      "metadata": {
        "id": "tR_L4JoKEaI8"
      },
      "execution_count": null,
      "outputs": []
    },
    {
      "cell_type": "code",
      "source": [
        "print('Accuracy:',logmodel.score(X_test,y_test))"
      ],
      "metadata": {
        "id": "NSbnp8CvEeMt"
      },
      "execution_count": null,
      "outputs": []
    },
    {
      "cell_type": "markdown",
      "source": [
        "###FeatureImportance"
      ],
      "metadata": {
        "id": "-w7w4om-Ehhz"
      }
    },
    {
      "cell_type": "code",
      "source": [
        "feature = pd.Series(forest.feature_importances_, index = X_train.columns).sort_values(ascending = False)\n",
        "print(feature)"
      ],
      "metadata": {
        "id": "aXntcgeLEizj"
      },
      "execution_count": null,
      "outputs": []
    },
    {
      "cell_type": "code",
      "source": [
        "plt.figure(figsize = (10,6))\n",
        "sns.barplot(x = feature, y = feature.index)\n",
        "plt.title(\"Feature Importance\")\n",
        "plt.xlabel('Score')\n",
        "plt.ylabel('Features')\n",
        "plt.show()"
      ],
      "metadata": {
        "id": "YkVutbYXEoYy"
      },
      "execution_count": null,
      "outputs": []
    }
  ]
}